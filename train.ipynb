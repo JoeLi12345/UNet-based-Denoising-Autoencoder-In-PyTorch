{
 "cells": [
  {
   "cell_type": "code",
   "execution_count": 1,
   "id": "3783eaf0",
   "metadata": {},
   "outputs": [],
   "source": [
    "%load_ext autoreload\n",
    "%autoreload 2\n",
    "import sys, os, time, glob, time, pdb, cv2\n",
    "import numpy as np\n",
    "import torch\n",
    "import torch.nn as nn\n",
    "from tqdm import tqdm\n",
    "import matplotlib.pyplot as plt\n",
    "plt.switch_backend('agg') # for servers not supporting display\n",
    "\n",
    "sys.path.insert(0,'..')\n",
    "\n",
    "# import neccesary libraries for defining the optimizers\n",
    "import torch.optim as optim\n",
    "from torch.optim import lr_scheduler\n",
    "from torchvision import transforms\n",
    "\n",
    "from unet import UNet\n",
    "from datasets import HAR_dataset\n",
    "import config as cfg\n",
    "from torch.utils.data import DataLoader\n",
    "\n"
   ]
  },
  {
   "cell_type": "code",
   "execution_count": 2,
   "id": "82dcee2d",
   "metadata": {},
   "outputs": [
    {
     "data": {
      "text/plain": [
       "True"
      ]
     },
     "execution_count": 2,
     "metadata": {},
     "output_type": "execute_result"
    }
   ],
   "source": [
    "os.path.isfile(\"../myproject/unet.py\")"
   ]
  },
  {
   "cell_type": "code",
   "execution_count": 13,
   "id": "9eb8902f",
   "metadata": {},
   "outputs": [
    {
     "name": "stdout",
     "output_type": "stream",
     "text": [
      "device:  cuda\n",
      "\n",
      "len(train_dataset) :  80964\n",
      "len(val_dataset)   :  20241\n"
     ]
    }
   ],
   "source": [
    "device = torch.device(\"cuda\") if torch.cuda.is_available() else torch.device(\"cpu\")\n",
    "print('device: ', device)\n",
    "\n",
    "script_time = time.time()\n",
    "\n",
    "def q(text = ''):\n",
    "    print('> {}'.format(text))\n",
    "    sys.exit()\n",
    "\n",
    "data_dir = cfg.data_dir\n",
    "train_dir = cfg.train_dir\n",
    "val_dir = cfg.val_dir\n",
    "    \n",
    "models_dir = cfg.models_dir\n",
    "if not os.path.exists(models_dir):\n",
    "    os.mkdir(models_dir)\n",
    "\n",
    "losses_dir = cfg.losses_dir\n",
    "if not os.path.exists(losses_dir):\n",
    "    os.mkdir(losses_dir)\n",
    "\n",
    "def count_parameters(model):\n",
    "    num_parameters = sum(p.numel() for p in model.parameters() if p.requires_grad)\n",
    "    return num_parameters/1e6 # in terms of millions\n",
    "\n",
    "def plot_losses(running_train_loss, running_val_loss, train_epoch_loss, val_epoch_loss, epoch):\n",
    "    fig = plt.figure(figsize=(16,16))\n",
    "    fig.suptitle('loss trends', fontsize=20)\n",
    "    ax1 = fig.add_subplot(221)\n",
    "    ax2 = fig.add_subplot(222)\n",
    "    ax3 = fig.add_subplot(223)\n",
    "    ax4 = fig.add_subplot(224)\n",
    "\n",
    "    ax1.title.set_text('epoch train loss VS #epochs')\n",
    "    ax1.set_xlabel('#epochs')\n",
    "    ax1.set_ylabel('epoch train loss')\n",
    "    ax1.plot(train_epoch_loss)\n",
    "    \n",
    "    ax2.title.set_text('epoch val loss VS #epochs')\n",
    "    ax2.set_xlabel('#epochs')\n",
    "    ax2.set_ylabel('epoch val loss')\n",
    "    ax2.plot(val_epoch_loss)\n",
    " \n",
    "    ax3.title.set_text('batch train loss VS #batches')\n",
    "    ax3.set_xlabel('#batches')\n",
    "    ax3.set_ylabel('batch train loss')\n",
    "    ax3.plot(running_train_loss)\n",
    "\n",
    "    ax4.title.set_text('batch val loss VS #batches')\n",
    "    ax4.set_xlabel('#batches')\n",
    "    ax4.set_ylabel('batch val loss')\n",
    "    ax4.plot(running_val_loss)\n",
    "    \n",
    "    plt.savefig(os.path.join(losses_dir,'losses_{}.png'.format(str(epoch + 1).zfill(2))))\n",
    "\n",
    "transform = transforms.Compose([transforms.ToPILImage(), transforms.ToTensor()])\n",
    "\n",
    "dataset = HAR_dataset()\n",
    "sz = int(0.8*len(dataset))\n",
    "\n",
    "train_dataset, val_dataset = torch.utils.data.random_split(dataset, [sz, len(dataset)-sz])\n",
    "\n",
    "#train_dataset       = HAR_dataset()\n",
    "#val_dataset         = HAR_dataset()\n",
    "\n",
    "print('\\nlen(train_dataset) : ', len(train_dataset))\n",
    "print('len(val_dataset)   : ', len(val_dataset))"
   ]
  },
  {
   "cell_type": "code",
   "execution_count": 14,
   "id": "820b4a05",
   "metadata": {},
   "outputs": [
    {
     "name": "stdout",
     "output_type": "stream",
     "text": [
      "\n",
      "len(train_loader): 2531  @bs=32\n"
     ]
    },
    {
     "data": {
      "text/plain": [
       "torch.Size([32, 1, 3, 256])"
      ]
     },
     "metadata": {},
     "output_type": "display_data"
    },
    {
     "data": {
      "text/plain": [
       "torch.Size([32, 1, 3, 256])"
      ]
     },
     "metadata": {},
     "output_type": "display_data"
    }
   ],
   "source": [
    "batch_size = cfg.batch_size\n",
    "\n",
    "train_loader = torch.utils.data.DataLoader(train_dataset, batch_size = batch_size, shuffle = True)\n",
    "\n",
    "print('\\nlen(train_loader): {}  @bs={}'.format(len(train_loader), batch_size))\n",
    "\n",
    "for img, noised in train_loader:\n",
    "    display(img.shape)\n",
    "    display(noised.shape)\n",
    "    #for img, noised in\n",
    "    break\n",
    "#print('len(val_loader)  : {}  @bs={}'.format(len(val_loader), batch_size))"
   ]
  },
  {
   "cell_type": "code",
   "execution_count": 15,
   "id": "a3f65dfc",
   "metadata": {
    "scrolled": true
   },
   "outputs": [
    {
     "name": "stdout",
     "output_type": "stream",
     "text": [
      "\n",
      "len(train_loader): 2531  @bs=32\n",
      "len(val_loader)  : 633  @bs=32\n",
      "\n",
      "from scratch\n",
      "\n",
      "model has 7.696193 M parameters\n",
      "\n",
      "loss_fn        : MSELoss()\n",
      "lr             : 1e-05\n",
      "epochs_till_now: 0\n",
      "epochs from now: 12\n",
      "\n",
      "===== EPOCH 1/12 =====\n",
      "\n",
      "TRAINING...\n"
     ]
    },
    {
     "ename": "RuntimeError",
     "evalue": "Given input size: (128x1x128). Calculated output size: (128x0x64). Output size is too small",
     "output_type": "error",
     "traceback": [
      "\u001b[0;31m---------------------------------------------------------------------------\u001b[0m",
      "\u001b[0;31mRuntimeError\u001b[0m                              Traceback (most recent call last)",
      "\u001b[0;32m/tmp/ipykernel_10956/1354581736.py\u001b[0m in \u001b[0;36m<module>\u001b[0;34m\u001b[0m\n\u001b[1;32m     59\u001b[0m \u001b[0;34m\u001b[0m\u001b[0m\n\u001b[1;32m     60\u001b[0m         \u001b[0moptimizer\u001b[0m\u001b[0;34m.\u001b[0m\u001b[0mzero_grad\u001b[0m\u001b[0;34m(\u001b[0m\u001b[0;34m)\u001b[0m\u001b[0;34m\u001b[0m\u001b[0;34m\u001b[0m\u001b[0m\n\u001b[0;32m---> 61\u001b[0;31m         \u001b[0mout\u001b[0m \u001b[0;34m=\u001b[0m \u001b[0mmodel\u001b[0m\u001b[0;34m(\u001b[0m\u001b[0mnoisy_imgs\u001b[0m\u001b[0;34m)\u001b[0m\u001b[0;34m\u001b[0m\u001b[0;34m\u001b[0m\u001b[0m\n\u001b[0m\u001b[1;32m     62\u001b[0m \u001b[0;34m\u001b[0m\u001b[0m\n\u001b[1;32m     63\u001b[0m         \u001b[0mloss\u001b[0m \u001b[0;34m=\u001b[0m \u001b[0mloss_fn\u001b[0m\u001b[0;34m(\u001b[0m\u001b[0mout\u001b[0m\u001b[0;34m,\u001b[0m \u001b[0mimgs\u001b[0m\u001b[0;34m)\u001b[0m\u001b[0;34m\u001b[0m\u001b[0;34m\u001b[0m\u001b[0m\n",
      "\u001b[0;32m~/anaconda3/lib/python3.9/site-packages/torch/nn/modules/module.py\u001b[0m in \u001b[0;36m_call_impl\u001b[0;34m(self, *input, **kwargs)\u001b[0m\n\u001b[1;32m   1128\u001b[0m         if not (self._backward_hooks or self._forward_hooks or self._forward_pre_hooks or _global_backward_hooks\n\u001b[1;32m   1129\u001b[0m                 or _global_forward_hooks or _global_forward_pre_hooks):\n\u001b[0;32m-> 1130\u001b[0;31m             \u001b[0;32mreturn\u001b[0m \u001b[0mforward_call\u001b[0m\u001b[0;34m(\u001b[0m\u001b[0;34m*\u001b[0m\u001b[0minput\u001b[0m\u001b[0;34m,\u001b[0m \u001b[0;34m**\u001b[0m\u001b[0mkwargs\u001b[0m\u001b[0;34m)\u001b[0m\u001b[0;34m\u001b[0m\u001b[0;34m\u001b[0m\u001b[0m\n\u001b[0m\u001b[1;32m   1131\u001b[0m         \u001b[0;31m# Do not call functions when jit is used\u001b[0m\u001b[0;34m\u001b[0m\u001b[0;34m\u001b[0m\u001b[0m\n\u001b[1;32m   1132\u001b[0m         \u001b[0mfull_backward_hooks\u001b[0m\u001b[0;34m,\u001b[0m \u001b[0mnon_full_backward_hooks\u001b[0m \u001b[0;34m=\u001b[0m \u001b[0;34m[\u001b[0m\u001b[0;34m]\u001b[0m\u001b[0;34m,\u001b[0m \u001b[0;34m[\u001b[0m\u001b[0;34m]\u001b[0m\u001b[0;34m\u001b[0m\u001b[0;34m\u001b[0m\u001b[0m\n",
      "\u001b[0;32m~/Desktop/unet/notebooks/../myproject/unet.py\u001b[0m in \u001b[0;36mforward\u001b[0;34m(self, x)\u001b[0m\n\u001b[1;32m     63\u001b[0m             \u001b[0;32mif\u001b[0m \u001b[0mi\u001b[0m \u001b[0;34m!=\u001b[0m \u001b[0mlen\u001b[0m\u001b[0;34m(\u001b[0m\u001b[0mself\u001b[0m\u001b[0;34m.\u001b[0m\u001b[0mdown_path\u001b[0m\u001b[0;34m)\u001b[0m \u001b[0;34m-\u001b[0m \u001b[0;36m1\u001b[0m\u001b[0;34m:\u001b[0m\u001b[0;34m\u001b[0m\u001b[0;34m\u001b[0m\u001b[0m\n\u001b[1;32m     64\u001b[0m                 \u001b[0mblocks\u001b[0m\u001b[0;34m.\u001b[0m\u001b[0mappend\u001b[0m\u001b[0;34m(\u001b[0m\u001b[0mx\u001b[0m\u001b[0;34m)\u001b[0m\u001b[0;34m\u001b[0m\u001b[0;34m\u001b[0m\u001b[0m\n\u001b[0;32m---> 65\u001b[0;31m                 \u001b[0mx\u001b[0m \u001b[0;34m=\u001b[0m \u001b[0mF\u001b[0m\u001b[0;34m.\u001b[0m\u001b[0mmax_pool2d\u001b[0m\u001b[0;34m(\u001b[0m\u001b[0mx\u001b[0m\u001b[0;34m,\u001b[0m \u001b[0;36m2\u001b[0m\u001b[0;34m)\u001b[0m\u001b[0;34m\u001b[0m\u001b[0;34m\u001b[0m\u001b[0m\n\u001b[0m\u001b[1;32m     66\u001b[0m \u001b[0;34m\u001b[0m\u001b[0m\n\u001b[1;32m     67\u001b[0m         \u001b[0;32mfor\u001b[0m \u001b[0mi\u001b[0m\u001b[0;34m,\u001b[0m \u001b[0mup\u001b[0m \u001b[0;32min\u001b[0m \u001b[0menumerate\u001b[0m\u001b[0;34m(\u001b[0m\u001b[0mself\u001b[0m\u001b[0;34m.\u001b[0m\u001b[0mup_path\u001b[0m\u001b[0;34m)\u001b[0m\u001b[0;34m:\u001b[0m\u001b[0;34m\u001b[0m\u001b[0;34m\u001b[0m\u001b[0m\n",
      "\u001b[0;32m~/anaconda3/lib/python3.9/site-packages/torch/_jit_internal.py\u001b[0m in \u001b[0;36mfn\u001b[0;34m(*args, **kwargs)\u001b[0m\n\u001b[1;32m    421\u001b[0m             \u001b[0;32mreturn\u001b[0m \u001b[0mif_true\u001b[0m\u001b[0;34m(\u001b[0m\u001b[0;34m*\u001b[0m\u001b[0margs\u001b[0m\u001b[0;34m,\u001b[0m \u001b[0;34m**\u001b[0m\u001b[0mkwargs\u001b[0m\u001b[0;34m)\u001b[0m\u001b[0;34m\u001b[0m\u001b[0;34m\u001b[0m\u001b[0m\n\u001b[1;32m    422\u001b[0m         \u001b[0;32melse\u001b[0m\u001b[0;34m:\u001b[0m\u001b[0;34m\u001b[0m\u001b[0;34m\u001b[0m\u001b[0m\n\u001b[0;32m--> 423\u001b[0;31m             \u001b[0;32mreturn\u001b[0m \u001b[0mif_false\u001b[0m\u001b[0;34m(\u001b[0m\u001b[0;34m*\u001b[0m\u001b[0margs\u001b[0m\u001b[0;34m,\u001b[0m \u001b[0;34m**\u001b[0m\u001b[0mkwargs\u001b[0m\u001b[0;34m)\u001b[0m\u001b[0;34m\u001b[0m\u001b[0;34m\u001b[0m\u001b[0m\n\u001b[0m\u001b[1;32m    424\u001b[0m \u001b[0;34m\u001b[0m\u001b[0m\n\u001b[1;32m    425\u001b[0m     \u001b[0;32mif\u001b[0m \u001b[0mif_true\u001b[0m\u001b[0;34m.\u001b[0m\u001b[0m__doc__\u001b[0m \u001b[0;32mis\u001b[0m \u001b[0;32mNone\u001b[0m \u001b[0;32mand\u001b[0m \u001b[0mif_false\u001b[0m\u001b[0;34m.\u001b[0m\u001b[0m__doc__\u001b[0m \u001b[0;32mis\u001b[0m \u001b[0;32mnot\u001b[0m \u001b[0;32mNone\u001b[0m\u001b[0;34m:\u001b[0m\u001b[0;34m\u001b[0m\u001b[0;34m\u001b[0m\u001b[0m\n",
      "\u001b[0;32m~/anaconda3/lib/python3.9/site-packages/torch/nn/functional.py\u001b[0m in \u001b[0;36m_max_pool2d\u001b[0;34m(input, kernel_size, stride, padding, dilation, ceil_mode, return_indices)\u001b[0m\n\u001b[1;32m    780\u001b[0m     \u001b[0;32mif\u001b[0m \u001b[0mstride\u001b[0m \u001b[0;32mis\u001b[0m \u001b[0;32mNone\u001b[0m\u001b[0;34m:\u001b[0m\u001b[0;34m\u001b[0m\u001b[0;34m\u001b[0m\u001b[0m\n\u001b[1;32m    781\u001b[0m         \u001b[0mstride\u001b[0m \u001b[0;34m=\u001b[0m \u001b[0mtorch\u001b[0m\u001b[0;34m.\u001b[0m\u001b[0mjit\u001b[0m\u001b[0;34m.\u001b[0m\u001b[0mannotate\u001b[0m\u001b[0;34m(\u001b[0m\u001b[0mList\u001b[0m\u001b[0;34m[\u001b[0m\u001b[0mint\u001b[0m\u001b[0;34m]\u001b[0m\u001b[0;34m,\u001b[0m \u001b[0;34m[\u001b[0m\u001b[0;34m]\u001b[0m\u001b[0;34m)\u001b[0m\u001b[0;34m\u001b[0m\u001b[0;34m\u001b[0m\u001b[0m\n\u001b[0;32m--> 782\u001b[0;31m     \u001b[0;32mreturn\u001b[0m \u001b[0mtorch\u001b[0m\u001b[0;34m.\u001b[0m\u001b[0mmax_pool2d\u001b[0m\u001b[0;34m(\u001b[0m\u001b[0minput\u001b[0m\u001b[0;34m,\u001b[0m \u001b[0mkernel_size\u001b[0m\u001b[0;34m,\u001b[0m \u001b[0mstride\u001b[0m\u001b[0;34m,\u001b[0m \u001b[0mpadding\u001b[0m\u001b[0;34m,\u001b[0m \u001b[0mdilation\u001b[0m\u001b[0;34m,\u001b[0m \u001b[0mceil_mode\u001b[0m\u001b[0;34m)\u001b[0m\u001b[0;34m\u001b[0m\u001b[0;34m\u001b[0m\u001b[0m\n\u001b[0m\u001b[1;32m    783\u001b[0m \u001b[0;34m\u001b[0m\u001b[0m\n\u001b[1;32m    784\u001b[0m \u001b[0;34m\u001b[0m\u001b[0m\n",
      "\u001b[0;31mRuntimeError\u001b[0m: Given input size: (128x1x128). Calculated output size: (128x0x64). Output size is too small"
     ]
    }
   ],
   "source": [
    "batch_size = cfg.batch_size\n",
    "\n",
    "train_loader = torch.utils.data.DataLoader(train_dataset, batch_size = batch_size, shuffle = True)\n",
    "val_loader = torch.utils.data.DataLoader(val_dataset, batch_size = batch_size, shuffle = not True)\n",
    "\n",
    "print('\\nlen(train_loader): {}  @bs={}'.format(len(train_loader), batch_size))\n",
    "print('len(val_loader)  : {}  @bs={}'.format(len(val_loader), batch_size))\n",
    "\n",
    "# defining the model\n",
    "model = UNet(n_classes = 1, depth = cfg.depth, padding = True).to(device) # try decreasing the depth value if there is a memory error\n",
    "\n",
    "resume = cfg.resume\n",
    "\n",
    "if not resume:\n",
    "    print('\\nfrom scratch')\n",
    "    train_epoch_loss = []\n",
    "    val_epoch_loss = []\n",
    "    running_train_loss = []\n",
    "    running_val_loss = []\n",
    "    epochs_till_now = 0\n",
    "else:\n",
    "    ckpt_path = os.path.join(models_dir, cfg.ckpt)\n",
    "    ckpt = torch.load(ckpt_path)\n",
    "    print(f'\\nckpt loaded: {ckpt_path}')\n",
    "    model_state_dict = ckpt['model_state_dict']\n",
    "    model.load_state_dict(model_state_dict)\n",
    "    model.to(device)\n",
    "    losses = ckpt['losses']\n",
    "    running_train_loss = losses['running_train_loss']\n",
    "    running_val_loss = losses['running_val_loss']\n",
    "    train_epoch_loss = losses['train_epoch_loss']\n",
    "    val_epoch_loss = losses['val_epoch_loss']\n",
    "    epochs_till_now = ckpt['epochs_till_now']\n",
    "\n",
    "lr = cfg.lr\n",
    "optimizer = optim.Adam(filter(lambda p: p.requires_grad, model.parameters()), lr = lr)\n",
    "loss_fn = nn.MSELoss()\n",
    "\n",
    "log_interval = cfg.log_interval\n",
    "epochs = cfg.epochs\n",
    "\n",
    "###\n",
    "print('\\nmodel has {} M parameters'.format(count_parameters(model)))\n",
    "print(f'\\nloss_fn        : {loss_fn}')\n",
    "print(f'lr             : {lr}')\n",
    "print(f'epochs_till_now: {epochs_till_now}')\n",
    "print(f'epochs from now: {epochs}')\n",
    "###\n",
    "\n",
    "for epoch in range(epochs_till_now, epochs_till_now+epochs):\n",
    "    print('\\n===== EPOCH {}/{} ====='.format(epoch + 1, epochs_till_now + epochs))    \n",
    "    print('\\nTRAINING...')\n",
    "    epoch_train_start_time = time.time()\n",
    "    model.train()\n",
    "    for batch_idx, (imgs, noisy_imgs) in enumerate(train_loader):\n",
    "        batch_start_time = time.time()\n",
    "        imgs = imgs.to(device)\n",
    "        noisy_imgs = noisy_imgs.to(device)\n",
    "\n",
    "        optimizer.zero_grad()\n",
    "        out = model(noisy_imgs)\n",
    "\n",
    "        loss = loss_fn(out, imgs)\n",
    "        running_train_loss.append(loss.item())\n",
    "        loss.backward()\n",
    "        optimizer.step()\n",
    "\n",
    "        if (batch_idx + 1)%log_interval == 0:\n",
    "            batch_time = time.time() - batch_start_time\n",
    "            m,s = divmod(batch_time, 60)\n",
    "            print('train loss @batch_idx {}/{}: {} in {} mins {} secs (per batch)'.format(str(batch_idx+1).zfill(len(str(len(train_loader)))), len(train_loader), loss.item(), int(m), round(s, 2)))\n",
    "\n",
    "    train_epoch_loss.append(np.array(running_train_loss).mean())\n",
    "\n",
    "    epoch_train_time = time.time() - epoch_train_start_time\n",
    "    m,s = divmod(epoch_train_time, 60)\n",
    "    h,m = divmod(m, 60)\n",
    "    print('\\nepoch train time: {} hrs {} mins {} secs'.format(int(h), int(m), int(s)))\n",
    "\n",
    "    print('\\nVALIDATION...')\n",
    "    epoch_val_start_time = time.time()\n",
    "    model.eval()\n",
    "    with torch.no_grad():\n",
    "        for batch_idx, (imgs, noisy_imgs) in enumerate(val_loader):\n",
    "\n",
    "            imgs = imgs.to(device)\n",
    "            noisy_imgs = noisy_imgs.to(device)\n",
    "\n",
    "            out = model(noisy_imgs)\n",
    "            loss = loss_fn(out, imgs)\n",
    "\n",
    "            running_val_loss.append(loss.item())\n",
    "\n",
    "            if (batch_idx + 1)%log_interval == 0:\n",
    "                print('val loss   @batch_idx {}/{}: {}'.format(str(batch_idx+1).zfill(len(str(len(val_loader)))), len(val_loader), loss.item()))\n",
    "\n",
    "    val_epoch_loss.append(np.array(running_val_loss).mean())\n",
    "\n",
    "    epoch_val_time = time.time() - epoch_val_start_time\n",
    "    m,s = divmod(epoch_val_time, 60)\n",
    "    h,m = divmod(m, 60)\n",
    "    print('\\nepoch val   time: {} hrs {} mins {} secs'.format(int(h), int(m), int(s)))\n",
    "\n",
    "    plot_losses(running_train_loss, running_val_loss, train_epoch_loss, val_epoch_loss,  epoch)   \n",
    "\n",
    "    torch.save({'model_state_dict': model.state_dict(), \n",
    "                'losses': {'running_train_loss': running_train_loss, \n",
    "                           'running_val_loss': running_val_loss, \n",
    "                           'train_epoch_loss': train_epoch_loss, \n",
    "                           'val_epoch_loss': val_epoch_loss}, \n",
    "                'epochs_till_now': epoch+1}, \n",
    "                os.path.join(models_dir, 'model{}.pth'.format(str(epoch + 1).zfill(2))))\n",
    "\n",
    "total_script_time = time.time() - script_time\n",
    "m, s = divmod(total_script_time, 60)\n",
    "h, m = divmod(m, 60)\n",
    "print(f'\\ntotal time taken for running this script: {int(h)} hrs {int(m)} mins {int(s)} secs')\n",
    "  \n",
    "print('\\nFin.')"
   ]
  },
  {
   "cell_type": "code",
   "execution_count": null,
   "id": "699effab",
   "metadata": {},
   "outputs": [],
   "source": []
  }
 ],
 "metadata": {
  "kernelspec": {
   "display_name": "Python 3 (ipykernel)",
   "language": "python",
   "name": "python3"
  },
  "language_info": {
   "codemirror_mode": {
    "name": "ipython",
    "version": 3
   },
   "file_extension": ".py",
   "mimetype": "text/x-python",
   "name": "python",
   "nbconvert_exporter": "python",
   "pygments_lexer": "ipython3",
   "version": "3.9.7"
  }
 },
 "nbformat": 4,
 "nbformat_minor": 5
}
